{
  "nbformat": 4,
  "nbformat_minor": 0,
  "metadata": {
    "colab": {
      "provenance": [],
      "authorship_tag": "ABX9TyOTIOuasbwlD6C3QbNRcUAj",
      "include_colab_link": true
    },
    "kernelspec": {
      "name": "python3",
      "display_name": "Python 3"
    },
    "language_info": {
      "name": "python"
    }
  },
  "cells": [
    {
      "cell_type": "markdown",
      "metadata": {
        "id": "view-in-github",
        "colab_type": "text"
      },
      "source": [
        "<a href=\"https://colab.research.google.com/github/CHIN-HUA/VLIW-based-processor/blob/main/VLIW_based_processor.ipynb\" target=\"_parent\"><img src=\"https://colab.research.google.com/assets/colab-badge.svg\" alt=\"Open In Colab\"/></a>"
      ]
    },
    {
      "cell_type": "code",
      "execution_count": null,
      "metadata": {
        "colab": {
          "base_uri": "https://localhost:8080/"
        },
        "id": "8oy9yW-sE8xN",
        "outputId": "0eadcb8a-8545-490f-cefc-fdf3af6e0a31"
      },
      "outputs": [
        {
          "output_type": "stream",
          "name": "stdout",
          "text": [
            "Looking in indexes: https://pypi.org/simple, https://us-python.pkg.dev/colab-wheels/public/simple/\n",
            "Requirement already satisfied: pyeda in /usr/local/lib/python3.10/dist-packages (0.28.0)\n"
          ]
        }
      ],
      "source": [
        "!pip3 install pyeda"
      ]
    },
    {
      "cell_type": "code",
      "source": [
        "!git clone https://github.com/thesrsakabuvttchi/VLIW.git"
      ],
      "metadata": {
        "colab": {
          "base_uri": "https://localhost:8080/"
        },
        "id": "yxcE0ZN4FE6J",
        "outputId": "6064f178-4399-4855-df73-d55d739a7c7a"
      },
      "execution_count": null,
      "outputs": [
        {
          "output_type": "stream",
          "name": "stdout",
          "text": [
            "fatal: destination path 'VLIW' already exists and is not an empty directory.\n"
          ]
        }
      ]
    },
    {
      "cell_type": "code",
      "source": [
        "!apt install -y iverilog"
      ],
      "metadata": {
        "colab": {
          "base_uri": "https://localhost:8080/"
        },
        "id": "8YnW3xNcGZKm",
        "outputId": "9b7d421d-465a-458b-9fe5-5314a8f62811"
      },
      "execution_count": null,
      "outputs": [
        {
          "output_type": "stream",
          "name": "stdout",
          "text": [
            "Reading package lists... Done\n",
            "Building dependency tree       \n",
            "Reading state information... Done\n",
            "iverilog is already the newest version (10.3-1build1).\n",
            "0 upgraded, 0 newly installed, 0 to remove and 24 not upgraded.\n"
          ]
        }
      ]
    },
    {
      "cell_type": "code",
      "source": [
        "%%writefile ./VLIW/test.vsm\n",
        "MOV R1,#1\n",
        "MOV R2,#2\n",
        "MOV R3,#3\n",
        "MOV R4,#4\n",
        "MOV R5,#5\n",
        "MOV R6,#6\n",
        "MOV R7,#7\n",
        "MOV R8,#8\n",
        "MUL R9,R1,R5\n",
        "MUL R10,R1,R6\n",
        "MUL R11,R3,R5\n",
        "MUL R12,R3,R6\n",
        "ADD R9,R9,R2\n",
        "ADD R10,R10,R2\n",
        "ADD R11,R11,R4\n",
        "ADD R12,R12,R4\n",
        "MOV R13,R9\n",
        "MOV R14,R10\n",
        "MOV R15,R11\n",
        "MOV R16,R12"
      ],
      "metadata": {
        "id": "0StiuANDpyLM",
        "outputId": "2e04ad1d-3df4-4a3b-ac7b-59acd8b27300",
        "colab": {
          "base_uri": "https://localhost:8080/"
        }
      },
      "execution_count": null,
      "outputs": [
        {
          "output_type": "stream",
          "name": "stdout",
          "text": [
            "Overwriting ./VLIW/test.vsm\n"
          ]
        }
      ]
    },
    {
      "cell_type": "markdown",
      "source": [
        "; 設定矩陣 A\n",
        "MOV R1, #1     ; A[0][0] = 1\n",
        "MOV R2, #2     ; A[0][1] = 2\n",
        "MOV R3, #3     ; A[1][0] = 3\n",
        "MOV R4, #4     ; A[1][1] = 4\n",
        "\n",
        "; 設定矩陣 B\n",
        "MOV R5, #5     ; B[0][0] = 5\n",
        "MOV R6, #6     ; B[0][1] = 6\n",
        "MOV R7, #7     ; B[1][0] = 7\n",
        "MOV R8, #8     ; B[1][1] = 8\n",
        "\n",
        "; 矩陣相乘相加: C = A * B + A\n",
        "MUL R9, R1, R5   ; C[0][0] = A[0][0] * B[0][0]\n",
        "MUL R10, R1, R6  ; C[0][1] = A[0][0] * B[0][1]\n",
        "MUL R11, R3, R5  ; C[1][0] = A[1][0] * B[0][0]\n",
        "MUL R12, R3, R6  ; C[1][1] = A[1][0] * B[0][1]\n",
        "\n",
        "ADD R9, R9, R2   ; C[0][0] = C[0][0] + A[0][1]\n",
        "ADD R10, R10, R2 ; C[0][1] = C[0][1] + A[0][1]\n",
        "ADD R11, R11, R4 ; C[1][0] = C[1][0] + A[1][1]\n",
        "ADD R12, R12, R4 ; C[1][1] = C[1][1] + A[1][1]\n",
        "\n",
        "; 將結果存入矩陣 C\n",
        "MOV R13, R9     ; C[0][0] = R9\n",
        "MOV R14, R10    ; C[0][1] = R10\n",
        "MOV R15, R11    ; C[1][0] = R11\n",
        "MOV R16, R12    ; C[1][1] = R12\n"
      ],
      "metadata": {
        "id": "-5oXffQ6jGDg"
      }
    },
    {
      "cell_type": "code",
      "source": [
        "!cd VLIW && python3 Reorder.py"
      ],
      "metadata": {
        "colab": {
          "base_uri": "https://localhost:8080/"
        },
        "id": "UNQubdenFROQ",
        "outputId": "47233b9c-a37c-4ce0-cdd4-56b8ac42522f"
      },
      "execution_count": null,
      "outputs": [
        {
          "output_type": "stream",
          "name": "stdout",
          "text": [
            "\n",
            "MOV R8,#8 (1)\t\n",
            "MOV R7,#7 (1)\t\n",
            "MOV R6,#6 (1)\t\n",
            "MOV R5,#5 (1)\t\n",
            "MOV R4,#4 (1)\t\n",
            "MOV R3,#3 (1)\tMUL R11,R3,R5 (14)\t\n",
            "MOV R2,#2 (1)\t\n",
            "MOV R1,#1 (1)\tMUL R9,R1,R5 (14)\t\n",
            "\n",
            "\n",
            "\n",
            "\n",
            "\n",
            "\n",
            "\n",
            "\n",
            "\n",
            "\n",
            "MUL R12,R3,R6 (14)\t\n",
            "ADD R11,R11,R4 (5)\t\n",
            "\n",
            "\n",
            "ADD R9,R9,R2 (5)\tMUL R10,R1,R6 (14)\t\n",
            "\n",
            "\n",
            "MOV R15,R11 (1)\t\n",
            "\n",
            "MOV R13,R9 (1)\t\n",
            "\n",
            "\n",
            "\n",
            "\n",
            "\n",
            "ADD R12,R12,R4 (5)\t\n",
            "\n",
            "\n",
            "ADD R10,R10,R2 (5)\t\n",
            "\n",
            "MOV R16,R12 (1)\t\n",
            "\n",
            "\n",
            "MOV R14,R10 (1)\t\n",
            "['MOV R8,#8', 'NOP', 'NOP', 'NOP', 'NOP', 'NOP']\n",
            "['MOV R7,#7', 'NOP', 'NOP', 'NOP', 'NOP', 'NOP']\n",
            "['MOV R6,#6', 'NOP', 'NOP', 'NOP', 'NOP', 'NOP']\n",
            "['MOV R5,#5', 'NOP', 'NOP', 'NOP', 'NOP', 'NOP']\n",
            "['MOV R4,#4', 'NOP', 'NOP', 'NOP', 'NOP', 'NOP']\n",
            "['MOV R3,#3', 'NOP', 'NOP', 'NOP', 'MUL R11,R3,R5', 'NOP']\n",
            "['MOV R2,#2', 'NOP', 'NOP', 'NOP', 'NOP', 'NOP']\n",
            "['MOV R1,#1', 'NOP', 'NOP', 'NOP', 'MUL R9,R1,R5', 'NOP']\n",
            "['NOP', 'NOP', 'NOP', 'NOP', 'NOP', 'NOP']\n",
            "['NOP', 'NOP', 'NOP', 'NOP', 'NOP', 'NOP']\n",
            "['NOP', 'NOP', 'NOP', 'NOP', 'NOP', 'NOP']\n",
            "['NOP', 'NOP', 'NOP', 'NOP', 'NOP', 'NOP']\n",
            "['NOP', 'NOP', 'NOP', 'NOP', 'NOP', 'NOP']\n",
            "['NOP', 'NOP', 'NOP', 'NOP', 'NOP', 'NOP']\n",
            "['NOP', 'NOP', 'NOP', 'NOP', 'NOP', 'NOP']\n",
            "['NOP', 'NOP', 'NOP', 'NOP', 'NOP', 'NOP']\n",
            "['NOP', 'NOP', 'NOP', 'NOP', 'NOP', 'NOP']\n",
            "['NOP', 'NOP', 'NOP', 'NOP', 'NOP', 'NOP']\n",
            "['NOP', 'NOP', 'NOP', 'NOP', 'MUL R12,R3,R6', 'NOP']\n",
            "['NOP', 'NOP', 'NOP', 'NOP', 'NOP', 'ADD R11,R11,R4']\n",
            "['NOP', 'NOP', 'NOP', 'NOP', 'NOP', 'NOP']\n",
            "['NOP', 'NOP', 'NOP', 'NOP', 'NOP', 'NOP']\n",
            "['NOP', 'NOP', 'NOP', 'NOP', 'MUL R10,R1,R6', 'ADD R9,R9,R2']\n",
            "['NOP', 'NOP', 'NOP', 'NOP', 'NOP', 'NOP']\n",
            "['NOP', 'NOP', 'NOP', 'NOP', 'NOP', 'NOP']\n",
            "['MOV R15,R11', 'NOP', 'NOP', 'NOP', 'NOP', 'NOP']\n",
            "['NOP', 'NOP', 'NOP', 'NOP', 'NOP', 'NOP']\n",
            "['MOV R13,R9', 'NOP', 'NOP', 'NOP', 'NOP', 'NOP']\n",
            "['NOP', 'NOP', 'NOP', 'NOP', 'NOP', 'NOP']\n",
            "['NOP', 'NOP', 'NOP', 'NOP', 'NOP', 'NOP']\n",
            "['NOP', 'NOP', 'NOP', 'NOP', 'NOP', 'NOP']\n",
            "['NOP', 'NOP', 'NOP', 'NOP', 'NOP', 'NOP']\n",
            "['NOP', 'NOP', 'NOP', 'NOP', 'NOP', 'NOP']\n",
            "['NOP', 'NOP', 'NOP', 'NOP', 'NOP', 'ADD R12,R12,R4']\n",
            "['NOP', 'NOP', 'NOP', 'NOP', 'NOP', 'NOP']\n",
            "['NOP', 'NOP', 'NOP', 'NOP', 'NOP', 'NOP']\n",
            "['NOP', 'NOP', 'NOP', 'NOP', 'NOP', 'ADD R10,R10,R2']\n",
            "['NOP', 'NOP', 'NOP', 'NOP', 'NOP', 'NOP']\n",
            "['MOV R16,R12', 'NOP', 'NOP', 'NOP', 'NOP', 'NOP']\n",
            "['NOP', 'NOP', 'NOP', 'NOP', 'NOP', 'NOP']\n",
            "['NOP', 'NOP', 'NOP', 'NOP', 'NOP', 'NOP']\n",
            "['MOV R14,R10', 'NOP', 'NOP', 'NOP', 'NOP', 'NOP']\n",
            "Generated new testbench file..........\n",
            "\n",
            "Compiling testbench...........\n",
            "\n",
            "Running testbench............\n",
            "\n",
            "Parsing output................\n",
            "\n",
            "Time \t PC \t Register Values\n",
            "10 \t 0 \t [0, 1, 2, 3, 4, 5, 6, 7, 8, 9, 10, 11, 12, 13, 14, 15, 16, 17, 18, 19, 20, 21, 22, 23, 24, 25, 26, 27, 28, 29, 30]\n",
            "210 \t 20 \t [0, 1, 2, 0, 4, 5, 6, 7, 8, 9, 10, 0, 12, 13, 14, 15, 16, 17, 18, 19, 20, 21, 22, 23, 24, 25, 26, 27, 28, 29, 30]\n",
            "230 \t 22 \t [0, 0, 2, 0, 4, 5, 6, 7, 8, 0, 10, 0, 12, 13, 14, 15, 16, 17, 18, 19, 20, 21, 22, 23, 24, 25, 26, 27, 28, 29, 30]\n",
            "260 \t 25 \t [0, 0, 2, 0, 4, 5, 6, 7, 8, 0, 10, 4, 12, 13, 14, 15, 16, 17, 18, 19, 20, 21, 22, 23, 24, 25, 26, 27, 28, 29, 30]\n",
            "290 \t 28 \t [0, 0, 2, 0, 4, 5, 6, 7, 8, 2, 10, 4, 12, 13, 14, 11, 16, 17, 18, 19, 20, 21, 22, 23, 24, 25, 26, 27, 28, 29, 30]\n",
            "310 \t 30 \t [0, 0, 2, 0, 4, 5, 6, 7, 8, 2, 10, 4, 12, 9, 14, 11, 16, 17, 18, 19, 20, 21, 22, 23, 24, 25, 26, 27, 28, 29, 30]\n",
            "340 \t 33 \t [0, 0, 2, 0, 4, 5, 6, 7, 8, 2, 10, 4, 0, 9, 14, 11, 16, 17, 18, 19, 20, 21, 22, 23, 24, 25, 26, 27, 28, 29, 30]\n",
            "380 \t 37 \t [0, 0, 2, 0, 4, 5, 6, 7, 8, 2, 0, 4, 0, 9, 14, 11, 16, 17, 18, 19, 20, 21, 22, 23, 24, 25, 26, 27, 28, 29, 30]\n",
            "400 \t 39 \t [0, 0, 2, 0, 4, 5, 6, 7, 8, 2, 0, 4, 4, 9, 14, 11, 16, 17, 18, 19, 20, 21, 22, 23, 24, 25, 26, 27, 28, 29, 30]\n",
            "420 \t 41 \t [0, 0, 2, 0, 4, 5, 6, 7, 8, 2, 0, 4, 4, 9, 14, 11, 12, 17, 18, 19, 20, 21, 22, 23, 24, 25, 26, 27, 28, 29, 30]\n",
            "430 \t 42 \t [0, 0, 2, 0, 4, 5, 6, 7, 8, 2, 2, 4, 4, 9, 14, 11, 12, 17, 18, 19, 20, 21, 22, 23, 24, 25, 26, 27, 28, 29, 30]\n",
            "450 \t 44 \t [0, 0, 2, 0, 4, 5, 6, 7, 8, 2, 2, 4, 4, 9, 10, 11, 12, 17, 18, 19, 20, 21, 22, 23, 24, 25, 26, 27, 28, 29, 30]\n"
          ]
        }
      ]
    },
    {
      "cell_type": "code",
      "source": [
        "# ; 設定矩陣 A\n",
        "# MOV R1, #1     ; A[0][0] = 1\n",
        "# MOV R2, #2     ; A[0][1] = 2\n",
        "# MOV R3, #3     ; A[1][0] = 3\n",
        "# MOV R4, #4     ; A[1][1] = 4\n",
        "\n",
        "# ; 設定矩陣 B\n",
        "# MOV R5, #5     ; B[0][0] = 5\n",
        "# MOV R6, #6     ; B[0][1] = 6\n",
        "# MOV R7, #7     ; B[1][0] = 7\n",
        "# MOV R8, #8     ; B[1][1] = 8\n",
        "\n",
        "# ; 矩陣相乘相加: C = A * B + A\n",
        "# MUL R9, R1, R5   ; C[0][0] = A[0][0] * B[0][0]\n",
        "# MUL R10, R1, R6  ; C[0][1] = A[0][0] * B[0][1]\n",
        "# MUL R11, R3, R5  ; C[1][0] = A[1][0] * B[0][0]\n",
        "# MUL R12, R3, R6  ; C[1][1] = A[1][0] * B[0][1]\n",
        "\n",
        "# ADD R9, R9, R2   ; C[0][0] = C[0][0] + A[0][1]\n",
        "# ADD R10, R10, R2 ; C[0][1] = C[0][1] + A[0][1]\n",
        "# ADD R11, R11, R4 ; C[1][0] = C[1][0] + A[1][1]\n",
        "# ADD R12, R12, R4 ; C[1][1] = C[1][1] + A[1][1]\n",
        "\n",
        "# ; 將結果存入矩陣 C\n",
        "# MOV R13, R9     ; C[0][0] = R9\n",
        "# MOV R14, R10    ; C[0][1] = R10\n",
        "# MOV R15, R11    ; C[1][0] = R11\n",
        "# MOV R16, R12    ; C[1][1] = R12\n"
      ],
      "metadata": {
        "id": "6l9TZmlNAAjw"
      },
      "execution_count": null,
      "outputs": []
    },
    {
      "cell_type": "code",
      "source": [
        "%%writefile ./VLIW/Reorder.py\n",
        "import os\n",
        "\n",
        "f = open('test.vsm', 'r')\n",
        "asm = f.read()\n",
        "f.close()\n",
        "\n",
        "# 定義指令和操作碼的對應關係\n",
        "Adder = [\"ADD\", \"ADDC\", \"SUB\", \"SUBB\"]\n",
        "AdderOpc = [\"0000\", \"0100\", \"1100\", \"1000\"]\n",
        "\n",
        "Multiplier = [\"MUL\"]\n",
        "MultiplierOpc = [\"0000\"]\n",
        "\n",
        "FPA = [\"FADD\"]\n",
        "FPAOpc = [\"0000\"]\n",
        "\n",
        "FPM = [\"FMUL\"]\n",
        "FPMOpc = [\"0000\"]\n",
        "\n",
        "LogicUnit = [\"AND\", \"OR\", \"NAND\", \"NOR\", \"XOR\", \"XNOR\", \"NOT\", \"BLS\"]\n",
        "LogicUnitOpc = [\"0000\", \"0110\", \"0100\", \"1010\", \"0010\", \"1110\", \"1000\", \"1100\"]\n",
        "\n",
        "Mem = [\"MOV\", \"LDR\", \"STR\"]\n",
        "MemOpc = [\"01\", \"10\", \"11\"]\n",
        "\n",
        "Units = [Adder, Multiplier, FPA, FPM, LogicUnit, Mem]\n",
        "UnitsOpc = [AdderOpc, MultiplierOpc, FPAOpc, FPMOpc, LogicUnitOpc, MemOpc]\n",
        "\n",
        "Un = []\n",
        "for i in Units:\n",
        "    Un = Un + i\n",
        "UnOp = []\n",
        "for i in UnitsOpc:\n",
        "    UnOp = UnOp + i\n",
        "Opc = dict(zip(Un, UnOp))\n",
        "\n",
        "# 定義指令的延遲時間\n",
        "Delay = dict(zip(Adder + Multiplier + FPA + FPM + LogicUnit + Mem,\n",
        "                 [5] * len(Adder) + [14] * len(Multiplier) + [5] * len(FPA) + [26] * len(FPM) + [1] * len(\n",
        "                     LogicUnit + [1] * len(Mem))))\n",
        "\n",
        "\n",
        "class Node:\n",
        "    def __init__(self, Reg, ins):\n",
        "        self.Reg = Reg\n",
        "        self.Instruction = None\n",
        "        self.InstructionAsWord = ins\n",
        "        self.Delay = 0\n",
        "        self.Parents = []\n",
        "        self.Children = []\n",
        "        self.WAWdeps = []\n",
        "        self.WARdeps = []\n",
        "        self.exc = False\n",
        "\n",
        "    def add_child(self, child):\n",
        "        self.Children.append(child)\n",
        "\n",
        "    def add_parents(self, parents):\n",
        "        self.Parents = parents\n",
        "\n",
        "    def add_WAW(self, deps):\n",
        "        if type(deps) == list:\n",
        "            self.WAWdeps.extend(deps)\n",
        "        else:\n",
        "            self.WAWdeps.append(deps)\n",
        "\n",
        "    def add_WAR(self, deps):\n",
        "        if type(deps) == list:\n",
        "            self.WARdeps.extend(deps)\n",
        "        else:\n",
        "            self.WARdeps.append(deps)\n",
        "\n",
        "    def add_ins(self, ins):\n",
        "        self.Instruction = ins\n",
        "        self.Delay = Delay[ins]\n",
        "\n",
        "    def print_node(self):\n",
        "        print(\"Reg Name:\", self.Reg)\n",
        "\n",
        "\n",
        "BegNodeTable = [Node(\"R\" + str(i), \"\") for i in range(32)]\n",
        "GlobalNodeTable = list(BegNodeTable)\n",
        "\n",
        "Instructions = asm.split('\\n')\n",
        "\n",
        "Ins = []\n",
        "regs = []\n",
        "for i in Instructions:\n",
        "    Ins.append(i.split(' ')[0])\n",
        "    if i.split(' ')[0] not in Mem:\n",
        "        regs.append(i.split(' ')[1].split(','))\n",
        "    else:\n",
        "        if \"#\" in i.split(' ')[1]:\n",
        "            regs.append(i.split(' ')[1].split(','))\n",
        "        else:\n",
        "            regs.append([i.split(' ')[1], i.split(' ')[2]])\n",
        "\n",
        "for index, inst in enumerate(Ins):\n",
        "    GNTindex = index + 32\n",
        "    GlobalNodeTable.append(Node(\"R\" + str(GNTindex), inst))\n",
        "\n",
        "for index, inst in enumerate(Ins):\n",
        "    GNTindex = index + 32\n",
        "    temp = Node(\"R\" + str(GNTindex), inst)\n",
        "    for reg in regs[index]:\n",
        "        for node in GlobalNodeTable:\n",
        "            if node.Reg == reg:\n",
        "                temp.add_parents(node)\n",
        "                node.add_child(temp)\n",
        "    GlobalNodeTable.append(temp)\n",
        "\n",
        "\n",
        "def get_eft(node):\n",
        "    if not node.Children:\n",
        "        return node.Delay\n",
        "    else:\n",
        "        max_child_eft = max(get_eft(child) for child in node.Children)\n",
        "        return node.Delay + max_child_eft\n",
        "\n",
        "\n",
        "def schedule_eft(nodes):\n",
        "    scheduled_nodes = []\n",
        "    while nodes:\n",
        "        available_nodes = [node for node in nodes if all(child in scheduled_nodes for child in node.Children)]\n",
        "        if not available_nodes:\n",
        "            break\n",
        "        node = min(available_nodes, key=lambda x: get_eft(x))\n",
        "        scheduled_nodes.append(node)\n",
        "        nodes.remove(node)\n",
        "    return scheduled_nodes\n",
        "\n",
        "\n",
        "def get_priority(node):\n",
        "    priority = 0\n",
        "    if node.Instruction in ['ADD', 'SUB']:\n",
        "        priority = 1\n",
        "    elif node.Instruction == 'MUL':\n",
        "        priority = 2\n",
        "    elif node.Instruction == 'LDR':\n",
        "        priority = 3\n",
        "    return priority\n",
        "\n",
        "\n",
        "def schedule_priority(nodes):\n",
        "    scheduled_nodes = []\n",
        "    while nodes:\n",
        "        node = min(nodes, key=lambda x: get_priority(x))\n",
        "        scheduled_nodes.append(node)\n",
        "        nodes.remove(node)\n",
        "    return scheduled_nodes\n",
        "\n",
        "\n",
        "def print_scheduled_nodes(scheduled_nodes):\n",
        "    for node in scheduled_nodes:\n",
        "        print(node.InstructionAsWord)\n",
        "\n",
        "\n",
        "# 在主程式碼中使用 EFT 排程方法\n",
        "eft_scheduled_nodes = schedule_eft(GlobalNodeTable)\n",
        "print(\"EFT Schedule:\")\n",
        "print_scheduled_nodes(eft_scheduled_nodes)\n",
        "\n",
        "# 在主程式碼中使用優先級排程方法\n",
        "priority_scheduled_nodes = schedule_priority(GlobalNodeTable)\n",
        "print(\"Priority Schedule:\")\n",
        "print_scheduled_nodes(priority_scheduled_nodes)\n"
      ],
      "metadata": {
        "id": "P7ZfzZ2laGo5",
        "outputId": "6812fa72-8fea-4170-8162-d7c45fa5a187",
        "colab": {
          "base_uri": "https://localhost:8080/"
        }
      },
      "execution_count": 7,
      "outputs": [
        {
          "output_type": "stream",
          "name": "stdout",
          "text": [
            "Overwriting ./VLIW/Reorder.py\n"
          ]
        }
      ]
    },
    {
      "cell_type": "code",
      "source": [
        "!cd VLIW && python3 Reorder.py"
      ],
      "metadata": {
        "id": "sCXbDCrQbI1z",
        "outputId": "b610246e-2201-434a-c68a-379342493a06",
        "colab": {
          "base_uri": "https://localhost:8080/"
        }
      },
      "execution_count": 8,
      "outputs": [
        {
          "output_type": "stream",
          "name": "stdout",
          "text": [
            "EFT Schedule:\n",
            "\n",
            "\n",
            "\n",
            "\n",
            "\n",
            "\n",
            "\n",
            "\n",
            "\n",
            "\n",
            "\n",
            "\n",
            "\n",
            "\n",
            "\n",
            "\n",
            "\n",
            "ADD\n",
            "SUB\n",
            "MUL\n",
            "MOV\n",
            "FADD\n",
            "ADD\n",
            "ADD\n",
            "STR\n",
            "LDR\n",
            "BLS\n",
            "ADD\n",
            "\n",
            "SUB\n",
            "MUL\n",
            "\n",
            "\n",
            "\n",
            "\n",
            "MOV\n",
            "FADD\n",
            "\n",
            "\n",
            "ADD\n",
            "\n",
            "\n",
            "ADD\n",
            "\n",
            "\n",
            "STR\n",
            "\n",
            "LDR\n",
            "\n",
            "BLS\n",
            "\n",
            "\n",
            "Priority Schedule:\n"
          ]
        }
      ]
    }
  ]
}