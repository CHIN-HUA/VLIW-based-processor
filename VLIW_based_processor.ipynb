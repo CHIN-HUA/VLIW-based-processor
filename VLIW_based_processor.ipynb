{
  "nbformat": 4,
  "nbformat_minor": 0,
  "metadata": {
    "colab": {
      "provenance": [],
      "authorship_tag": "ABX9TyN1OZKeLjVPe2+WnntDLbEX",
      "include_colab_link": true
    },
    "kernelspec": {
      "name": "python3",
      "display_name": "Python 3"
    },
    "language_info": {
      "name": "python"
    }
  },
  "cells": [
    {
      "cell_type": "markdown",
      "metadata": {
        "id": "view-in-github",
        "colab_type": "text"
      },
      "source": [
        "<a href=\"https://colab.research.google.com/github/CHIN-HUA/VLIW-based-processor/blob/main/VLIW_based_processor.ipynb\" target=\"_parent\"><img src=\"https://colab.research.google.com/assets/colab-badge.svg\" alt=\"Open In Colab\"/></a>"
      ]
    },
    {
      "cell_type": "code",
      "execution_count": 16,
      "metadata": {
        "colab": {
          "base_uri": "https://localhost:8080/"
        },
        "id": "8oy9yW-sE8xN",
        "outputId": "0eadcb8a-8545-490f-cefc-fdf3af6e0a31"
      },
      "outputs": [
        {
          "output_type": "stream",
          "name": "stdout",
          "text": [
            "Looking in indexes: https://pypi.org/simple, https://us-python.pkg.dev/colab-wheels/public/simple/\n",
            "Requirement already satisfied: pyeda in /usr/local/lib/python3.10/dist-packages (0.28.0)\n"
          ]
        }
      ],
      "source": [
        "!pip3 install pyeda"
      ]
    },
    {
      "cell_type": "code",
      "source": [
        "!git clone https://github.com/thesrsakabuvttchi/VLIW.git"
      ],
      "metadata": {
        "colab": {
          "base_uri": "https://localhost:8080/"
        },
        "id": "yxcE0ZN4FE6J",
        "outputId": "6064f178-4399-4855-df73-d55d739a7c7a"
      },
      "execution_count": 17,
      "outputs": [
        {
          "output_type": "stream",
          "name": "stdout",
          "text": [
            "fatal: destination path 'VLIW' already exists and is not an empty directory.\n"
          ]
        }
      ]
    },
    {
      "cell_type": "code",
      "source": [
        "!apt install -y iverilog"
      ],
      "metadata": {
        "colab": {
          "base_uri": "https://localhost:8080/"
        },
        "id": "8YnW3xNcGZKm",
        "outputId": "9b7d421d-465a-458b-9fe5-5314a8f62811"
      },
      "execution_count": 18,
      "outputs": [
        {
          "output_type": "stream",
          "name": "stdout",
          "text": [
            "Reading package lists... Done\n",
            "Building dependency tree       \n",
            "Reading state information... Done\n",
            "iverilog is already the newest version (10.3-1build1).\n",
            "0 upgraded, 0 newly installed, 0 to remove and 24 not upgraded.\n"
          ]
        }
      ]
    },
    {
      "cell_type": "code",
      "source": [
        "%%writefile ./VLIW/test.vsm\n",
        "MOV R1,#1\n",
        "MOV R2,#2\n",
        "MOV R3,#3\n",
        "MOV R4,#4\n",
        "MOV R5,#5\n",
        "MOV R6,#6\n",
        "MOV R7,#7\n",
        "MOV R8,#8\n",
        "MUL R9,R1,R5\n",
        "MUL R10,R1,R6\n",
        "MUL R11,R3,R5\n",
        "MUL R12,R3,R6\n",
        "ADD R9,R9,R2\n",
        "ADD R10,R10,R2\n",
        "ADD R11,R11,R4\n",
        "ADD R12,R12,R4\n",
        "MOV R13,R9\n",
        "MOV R14,R10\n",
        "MOV R15,R11\n",
        "MOV R16,R12"
      ],
      "metadata": {
        "id": "0StiuANDpyLM",
        "outputId": "2e04ad1d-3df4-4a3b-ac7b-59acd8b27300",
        "colab": {
          "base_uri": "https://localhost:8080/"
        }
      },
      "execution_count": 19,
      "outputs": [
        {
          "output_type": "stream",
          "name": "stdout",
          "text": [
            "Overwriting ./VLIW/test.vsm\n"
          ]
        }
      ]
    },
    {
      "cell_type": "markdown",
      "source": [
        "; 設定矩陣 A\n",
        "MOV R1, #1     ; A[0][0] = 1\n",
        "MOV R2, #2     ; A[0][1] = 2\n",
        "MOV R3, #3     ; A[1][0] = 3\n",
        "MOV R4, #4     ; A[1][1] = 4\n",
        "\n",
        "; 設定矩陣 B\n",
        "MOV R5, #5     ; B[0][0] = 5\n",
        "MOV R6, #6     ; B[0][1] = 6\n",
        "MOV R7, #7     ; B[1][0] = 7\n",
        "MOV R8, #8     ; B[1][1] = 8\n",
        "\n",
        "; 矩陣相乘相加: C = A * B + A\n",
        "MUL R9, R1, R5   ; C[0][0] = A[0][0] * B[0][0]\n",
        "MUL R10, R1, R6  ; C[0][1] = A[0][0] * B[0][1]\n",
        "MUL R11, R3, R5  ; C[1][0] = A[1][0] * B[0][0]\n",
        "MUL R12, R3, R6  ; C[1][1] = A[1][0] * B[0][1]\n",
        "\n",
        "ADD R9, R9, R2   ; C[0][0] = C[0][0] + A[0][1]\n",
        "ADD R10, R10, R2 ; C[0][1] = C[0][1] + A[0][1]\n",
        "ADD R11, R11, R4 ; C[1][0] = C[1][0] + A[1][1]\n",
        "ADD R12, R12, R4 ; C[1][1] = C[1][1] + A[1][1]\n",
        "\n",
        "; 將結果存入矩陣 C\n",
        "MOV R13, R9     ; C[0][0] = R9\n",
        "MOV R14, R10    ; C[0][1] = R10\n",
        "MOV R15, R11    ; C[1][0] = R11\n",
        "MOV R16, R12    ; C[1][1] = R12\n"
      ],
      "metadata": {
        "id": "-5oXffQ6jGDg"
      }
    },
    {
      "cell_type": "code",
      "source": [
        "!cd VLIW && python3 Reorder.py"
      ],
      "metadata": {
        "colab": {
          "base_uri": "https://localhost:8080/"
        },
        "id": "UNQubdenFROQ",
        "outputId": "47233b9c-a37c-4ce0-cdd4-56b8ac42522f"
      },
      "execution_count": 20,
      "outputs": [
        {
          "output_type": "stream",
          "name": "stdout",
          "text": [
            "\n",
            "MOV R8,#8 (1)\t\n",
            "MOV R7,#7 (1)\t\n",
            "MOV R6,#6 (1)\t\n",
            "MOV R5,#5 (1)\t\n",
            "MOV R4,#4 (1)\t\n",
            "MOV R3,#3 (1)\tMUL R11,R3,R5 (14)\t\n",
            "MOV R2,#2 (1)\t\n",
            "MOV R1,#1 (1)\tMUL R9,R1,R5 (14)\t\n",
            "\n",
            "\n",
            "\n",
            "\n",
            "\n",
            "\n",
            "\n",
            "\n",
            "\n",
            "\n",
            "MUL R12,R3,R6 (14)\t\n",
            "ADD R11,R11,R4 (5)\t\n",
            "\n",
            "\n",
            "ADD R9,R9,R2 (5)\tMUL R10,R1,R6 (14)\t\n",
            "\n",
            "\n",
            "MOV R15,R11 (1)\t\n",
            "\n",
            "MOV R13,R9 (1)\t\n",
            "\n",
            "\n",
            "\n",
            "\n",
            "\n",
            "ADD R12,R12,R4 (5)\t\n",
            "\n",
            "\n",
            "ADD R10,R10,R2 (5)\t\n",
            "\n",
            "MOV R16,R12 (1)\t\n",
            "\n",
            "\n",
            "MOV R14,R10 (1)\t\n",
            "['MOV R8,#8', 'NOP', 'NOP', 'NOP', 'NOP', 'NOP']\n",
            "['MOV R7,#7', 'NOP', 'NOP', 'NOP', 'NOP', 'NOP']\n",
            "['MOV R6,#6', 'NOP', 'NOP', 'NOP', 'NOP', 'NOP']\n",
            "['MOV R5,#5', 'NOP', 'NOP', 'NOP', 'NOP', 'NOP']\n",
            "['MOV R4,#4', 'NOP', 'NOP', 'NOP', 'NOP', 'NOP']\n",
            "['MOV R3,#3', 'NOP', 'NOP', 'NOP', 'MUL R11,R3,R5', 'NOP']\n",
            "['MOV R2,#2', 'NOP', 'NOP', 'NOP', 'NOP', 'NOP']\n",
            "['MOV R1,#1', 'NOP', 'NOP', 'NOP', 'MUL R9,R1,R5', 'NOP']\n",
            "['NOP', 'NOP', 'NOP', 'NOP', 'NOP', 'NOP']\n",
            "['NOP', 'NOP', 'NOP', 'NOP', 'NOP', 'NOP']\n",
            "['NOP', 'NOP', 'NOP', 'NOP', 'NOP', 'NOP']\n",
            "['NOP', 'NOP', 'NOP', 'NOP', 'NOP', 'NOP']\n",
            "['NOP', 'NOP', 'NOP', 'NOP', 'NOP', 'NOP']\n",
            "['NOP', 'NOP', 'NOP', 'NOP', 'NOP', 'NOP']\n",
            "['NOP', 'NOP', 'NOP', 'NOP', 'NOP', 'NOP']\n",
            "['NOP', 'NOP', 'NOP', 'NOP', 'NOP', 'NOP']\n",
            "['NOP', 'NOP', 'NOP', 'NOP', 'NOP', 'NOP']\n",
            "['NOP', 'NOP', 'NOP', 'NOP', 'NOP', 'NOP']\n",
            "['NOP', 'NOP', 'NOP', 'NOP', 'MUL R12,R3,R6', 'NOP']\n",
            "['NOP', 'NOP', 'NOP', 'NOP', 'NOP', 'ADD R11,R11,R4']\n",
            "['NOP', 'NOP', 'NOP', 'NOP', 'NOP', 'NOP']\n",
            "['NOP', 'NOP', 'NOP', 'NOP', 'NOP', 'NOP']\n",
            "['NOP', 'NOP', 'NOP', 'NOP', 'MUL R10,R1,R6', 'ADD R9,R9,R2']\n",
            "['NOP', 'NOP', 'NOP', 'NOP', 'NOP', 'NOP']\n",
            "['NOP', 'NOP', 'NOP', 'NOP', 'NOP', 'NOP']\n",
            "['MOV R15,R11', 'NOP', 'NOP', 'NOP', 'NOP', 'NOP']\n",
            "['NOP', 'NOP', 'NOP', 'NOP', 'NOP', 'NOP']\n",
            "['MOV R13,R9', 'NOP', 'NOP', 'NOP', 'NOP', 'NOP']\n",
            "['NOP', 'NOP', 'NOP', 'NOP', 'NOP', 'NOP']\n",
            "['NOP', 'NOP', 'NOP', 'NOP', 'NOP', 'NOP']\n",
            "['NOP', 'NOP', 'NOP', 'NOP', 'NOP', 'NOP']\n",
            "['NOP', 'NOP', 'NOP', 'NOP', 'NOP', 'NOP']\n",
            "['NOP', 'NOP', 'NOP', 'NOP', 'NOP', 'NOP']\n",
            "['NOP', 'NOP', 'NOP', 'NOP', 'NOP', 'ADD R12,R12,R4']\n",
            "['NOP', 'NOP', 'NOP', 'NOP', 'NOP', 'NOP']\n",
            "['NOP', 'NOP', 'NOP', 'NOP', 'NOP', 'NOP']\n",
            "['NOP', 'NOP', 'NOP', 'NOP', 'NOP', 'ADD R10,R10,R2']\n",
            "['NOP', 'NOP', 'NOP', 'NOP', 'NOP', 'NOP']\n",
            "['MOV R16,R12', 'NOP', 'NOP', 'NOP', 'NOP', 'NOP']\n",
            "['NOP', 'NOP', 'NOP', 'NOP', 'NOP', 'NOP']\n",
            "['NOP', 'NOP', 'NOP', 'NOP', 'NOP', 'NOP']\n",
            "['MOV R14,R10', 'NOP', 'NOP', 'NOP', 'NOP', 'NOP']\n",
            "Generated new testbench file..........\n",
            "\n",
            "Compiling testbench...........\n",
            "\n",
            "Running testbench............\n",
            "\n",
            "Parsing output................\n",
            "\n",
            "Time \t PC \t Register Values\n",
            "10 \t 0 \t [0, 1, 2, 3, 4, 5, 6, 7, 8, 9, 10, 11, 12, 13, 14, 15, 16, 17, 18, 19, 20, 21, 22, 23, 24, 25, 26, 27, 28, 29, 30]\n",
            "210 \t 20 \t [0, 1, 2, 0, 4, 5, 6, 7, 8, 9, 10, 0, 12, 13, 14, 15, 16, 17, 18, 19, 20, 21, 22, 23, 24, 25, 26, 27, 28, 29, 30]\n",
            "230 \t 22 \t [0, 0, 2, 0, 4, 5, 6, 7, 8, 0, 10, 0, 12, 13, 14, 15, 16, 17, 18, 19, 20, 21, 22, 23, 24, 25, 26, 27, 28, 29, 30]\n",
            "260 \t 25 \t [0, 0, 2, 0, 4, 5, 6, 7, 8, 0, 10, 4, 12, 13, 14, 15, 16, 17, 18, 19, 20, 21, 22, 23, 24, 25, 26, 27, 28, 29, 30]\n",
            "290 \t 28 \t [0, 0, 2, 0, 4, 5, 6, 7, 8, 2, 10, 4, 12, 13, 14, 11, 16, 17, 18, 19, 20, 21, 22, 23, 24, 25, 26, 27, 28, 29, 30]\n",
            "310 \t 30 \t [0, 0, 2, 0, 4, 5, 6, 7, 8, 2, 10, 4, 12, 9, 14, 11, 16, 17, 18, 19, 20, 21, 22, 23, 24, 25, 26, 27, 28, 29, 30]\n",
            "340 \t 33 \t [0, 0, 2, 0, 4, 5, 6, 7, 8, 2, 10, 4, 0, 9, 14, 11, 16, 17, 18, 19, 20, 21, 22, 23, 24, 25, 26, 27, 28, 29, 30]\n",
            "380 \t 37 \t [0, 0, 2, 0, 4, 5, 6, 7, 8, 2, 0, 4, 0, 9, 14, 11, 16, 17, 18, 19, 20, 21, 22, 23, 24, 25, 26, 27, 28, 29, 30]\n",
            "400 \t 39 \t [0, 0, 2, 0, 4, 5, 6, 7, 8, 2, 0, 4, 4, 9, 14, 11, 16, 17, 18, 19, 20, 21, 22, 23, 24, 25, 26, 27, 28, 29, 30]\n",
            "420 \t 41 \t [0, 0, 2, 0, 4, 5, 6, 7, 8, 2, 0, 4, 4, 9, 14, 11, 12, 17, 18, 19, 20, 21, 22, 23, 24, 25, 26, 27, 28, 29, 30]\n",
            "430 \t 42 \t [0, 0, 2, 0, 4, 5, 6, 7, 8, 2, 2, 4, 4, 9, 14, 11, 12, 17, 18, 19, 20, 21, 22, 23, 24, 25, 26, 27, 28, 29, 30]\n",
            "450 \t 44 \t [0, 0, 2, 0, 4, 5, 6, 7, 8, 2, 2, 4, 4, 9, 10, 11, 12, 17, 18, 19, 20, 21, 22, 23, 24, 25, 26, 27, 28, 29, 30]\n"
          ]
        }
      ]
    },
    {
      "cell_type": "code",
      "source": [
        "# ; 設定矩陣 A\n",
        "# MOV R1, #1     ; A[0][0] = 1\n",
        "# MOV R2, #2     ; A[0][1] = 2\n",
        "# MOV R3, #3     ; A[1][0] = 3\n",
        "# MOV R4, #4     ; A[1][1] = 4\n",
        "\n",
        "# ; 設定矩陣 B\n",
        "# MOV R5, #5     ; B[0][0] = 5\n",
        "# MOV R6, #6     ; B[0][1] = 6\n",
        "# MOV R7, #7     ; B[1][0] = 7\n",
        "# MOV R8, #8     ; B[1][1] = 8\n",
        "\n",
        "# ; 矩陣相乘相加: C = A * B + A\n",
        "# MUL R9, R1, R5   ; C[0][0] = A[0][0] * B[0][0]\n",
        "# MUL R10, R1, R6  ; C[0][1] = A[0][0] * B[0][1]\n",
        "# MUL R11, R3, R5  ; C[1][0] = A[1][0] * B[0][0]\n",
        "# MUL R12, R3, R6  ; C[1][1] = A[1][0] * B[0][1]\n",
        "\n",
        "# ADD R9, R9, R2   ; C[0][0] = C[0][0] + A[0][1]\n",
        "# ADD R10, R10, R2 ; C[0][1] = C[0][1] + A[0][1]\n",
        "# ADD R11, R11, R4 ; C[1][0] = C[1][0] + A[1][1]\n",
        "# ADD R12, R12, R4 ; C[1][1] = C[1][1] + A[1][1]\n",
        "\n",
        "# ; 將結果存入矩陣 C\n",
        "# MOV R13, R9     ; C[0][0] = R9\n",
        "# MOV R14, R10    ; C[0][1] = R10\n",
        "# MOV R15, R11    ; C[1][0] = R11\n",
        "# MOV R16, R12    ; C[1][1] = R12\n"
      ],
      "metadata": {
        "id": "6l9TZmlNAAjw"
      },
      "execution_count": null,
      "outputs": []
    }
  ]
}