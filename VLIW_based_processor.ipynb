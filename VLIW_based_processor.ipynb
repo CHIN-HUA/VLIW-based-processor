{
  "nbformat": 4,
  "nbformat_minor": 0,
  "metadata": {
    "colab": {
      "provenance": [],
      "authorship_tag": "ABX9TyPLUYItezTHvlBp2czYyx7A",
      "include_colab_link": true
    },
    "kernelspec": {
      "name": "python3",
      "display_name": "Python 3"
    },
    "language_info": {
      "name": "python"
    }
  },
  "cells": [
    {
      "cell_type": "markdown",
      "metadata": {
        "id": "view-in-github",
        "colab_type": "text"
      },
      "source": [
        "<a href=\"https://colab.research.google.com/github/CHIN-HUA/VLIW-based-processor/blob/main/VLIW_based_processor.ipynb\" target=\"_parent\"><img src=\"https://colab.research.google.com/assets/colab-badge.svg\" alt=\"Open In Colab\"/></a>"
      ]
    },
    {
      "cell_type": "code",
      "execution_count": 1,
      "metadata": {
        "colab": {
          "base_uri": "https://localhost:8080/"
        },
        "id": "8oy9yW-sE8xN",
        "outputId": "d95f3596-ab51-4b96-bdf5-8c4816c6637e"
      },
      "outputs": [
        {
          "output_type": "stream",
          "name": "stdout",
          "text": [
            "Looking in indexes: https://pypi.org/simple, https://us-python.pkg.dev/colab-wheels/public/simple/\n",
            "Collecting pyeda\n",
            "  Downloading pyeda-0.28.0.zip (535 kB)\n",
            "\u001b[2K     \u001b[90m━━━━━━━━━━━━━━━━━━━━━━━━━━━━━━━━━━━━━━\u001b[0m \u001b[32m535.1/535.1 kB\u001b[0m \u001b[31m10.5 MB/s\u001b[0m eta \u001b[36m0:00:00\u001b[0m\n",
            "\u001b[?25h  Preparing metadata (setup.py) ... \u001b[?25l\u001b[?25hdone\n",
            "Building wheels for collected packages: pyeda\n",
            "  Building wheel for pyeda (setup.py) ... \u001b[?25l\u001b[?25hdone\n",
            "  Created wheel for pyeda: filename=pyeda-0.28.0-cp310-cp310-linux_x86_64.whl size=627901 sha256=29cd65d14c283a504ec6f71c2fe0f749e9eea5350e6fa8e1c277a5f658f6d5c9\n",
            "  Stored in directory: /root/.cache/pip/wheels/a2/87/fa/83c615deff379923e659daafd4fc35ffa9101ecbb823da1eda\n",
            "Successfully built pyeda\n",
            "Installing collected packages: pyeda\n",
            "Successfully installed pyeda-0.28.0\n"
          ]
        }
      ],
      "source": [
        "!pip3 install pyeda"
      ]
    },
    {
      "cell_type": "code",
      "source": [
        "!git clone https://github.com/thesrsakabuvttchi/VLIW.git"
      ],
      "metadata": {
        "colab": {
          "base_uri": "https://localhost:8080/"
        },
        "id": "yxcE0ZN4FE6J",
        "outputId": "2a635023-2f2a-4a50-acfe-3982f6f389d8"
      },
      "execution_count": 2,
      "outputs": [
        {
          "output_type": "stream",
          "name": "stdout",
          "text": [
            "Cloning into 'VLIW'...\n",
            "remote: Enumerating objects: 35, done.\u001b[K\n",
            "remote: Counting objects: 100% (35/35), done.\u001b[K\n",
            "remote: Compressing objects: 100% (33/33), done.\u001b[K\n",
            "remote: Total 35 (delta 9), reused 0 (delta 0), pack-reused 0\u001b[K\n",
            "Unpacking objects: 100% (35/35), 193.15 KiB | 4.20 MiB/s, done.\n"
          ]
        }
      ]
    },
    {
      "cell_type": "code",
      "source": [
        "!apt install -y iverilog"
      ],
      "metadata": {
        "colab": {
          "base_uri": "https://localhost:8080/"
        },
        "id": "8YnW3xNcGZKm",
        "outputId": "05cea09b-f355-4ff4-9726-d1e3fe3991b2"
      },
      "execution_count": 5,
      "outputs": [
        {
          "output_type": "stream",
          "name": "stdout",
          "text": [
            "Reading package lists... Done\n",
            "Building dependency tree       \n",
            "Reading state information... Done\n",
            "Suggested packages:\n",
            "  gtkwave\n",
            "The following NEW packages will be installed:\n",
            "  iverilog\n",
            "0 upgraded, 1 newly installed, 0 to remove and 24 not upgraded.\n",
            "Need to get 1,859 kB of archives.\n",
            "After this operation, 6,547 kB of additional disk space will be used.\n",
            "Get:1 http://archive.ubuntu.com/ubuntu focal/universe amd64 iverilog amd64 10.3-1build1 [1,859 kB]\n",
            "Fetched 1,859 kB in 1s (1,338 kB/s)\n",
            "Selecting previously unselected package iverilog.\n",
            "(Reading database ... 122519 files and directories currently installed.)\n",
            "Preparing to unpack .../iverilog_10.3-1build1_amd64.deb ...\n",
            "Unpacking iverilog (10.3-1build1) ...\n",
            "Setting up iverilog (10.3-1build1) ...\n",
            "Processing triggers for man-db (2.9.1-1) ...\n"
          ]
        }
      ]
    },
    {
      "cell_type": "code",
      "source": [
        "!cd VLIW && python3 Reorder.py"
      ],
      "metadata": {
        "colab": {
          "base_uri": "https://localhost:8080/"
        },
        "id": "UNQubdenFROQ",
        "outputId": "7e3b0b4a-b654-4bc2-ebab-e1191f4de5dd"
      },
      "execution_count": 6,
      "outputs": [
        {
          "output_type": "stream",
          "name": "stdout",
          "text": [
            "\n",
            "STR R29,#21 (1)\tADD R5,R1,R22 (5)\tMUL R8,R19,R15,R10 (14)\tBLS R30,R1,R1 (1)\t\n",
            "ADD R2,R1,R3 (5)\t\n",
            "\n",
            "\n",
            "\n",
            "\n",
            "FADD R23,R2,R24 (5)\tSUB R4,R2,R1 (5)\t\n",
            "ADD R2,R2,R21 (5)\t\n",
            "\n",
            "\n",
            "\n",
            "\n",
            "MOV R4,#4000 (1)\t\n",
            "LDR R4,#21 (1)\t\n",
            "['STR R29,#21', 'BLS R30,R1,R1', 'NOP', 'NOP', 'MUL R8,R19,R15,R10', 'ADD R5,R1,R22']\n",
            "['NOP', 'NOP', 'NOP', 'NOP', 'NOP', 'ADD R2,R1,R3']\n",
            "['NOP', 'NOP', 'NOP', 'NOP', 'NOP', 'NOP']\n",
            "['NOP', 'NOP', 'NOP', 'NOP', 'NOP', 'NOP']\n",
            "['NOP', 'NOP', 'NOP', 'NOP', 'NOP', 'NOP']\n",
            "['NOP', 'NOP', 'NOP', 'NOP', 'NOP', 'NOP']\n",
            "['NOP', 'NOP', 'NOP', 'FADD R23,R2,R24', 'NOP', 'SUB R4,R2,R1']\n",
            "['NOP', 'NOP', 'NOP', 'NOP', 'NOP', 'ADD R2,R2,R21']\n",
            "['NOP', 'NOP', 'NOP', 'NOP', 'NOP', 'NOP']\n",
            "['NOP', 'NOP', 'NOP', 'NOP', 'NOP', 'NOP']\n",
            "['NOP', 'NOP', 'NOP', 'NOP', 'NOP', 'NOP']\n",
            "['NOP', 'NOP', 'NOP', 'NOP', 'NOP', 'NOP']\n",
            "['MOV R4,#4000', 'NOP', 'NOP', 'NOP', 'NOP', 'NOP']\n",
            "['LDR R4,#21', 'NOP', 'NOP', 'NOP', 'NOP', 'NOP']\n",
            "Generated new testbench file..........\n",
            "\n",
            "Compiling testbench...........\n",
            "\n",
            "Running testbench............\n",
            "\n",
            "Parsing output................\n",
            "\n",
            "Time \t PC \t Register Values\n",
            "10 \t 0 \t [0, 1, 2, 3, 4, 5, 6, 7, 8, 9, 10, 11, 12, 13, 14, 15, 16, 17, 18, 19, 20, 21, 22, 23, 24, 25, 26, 27, 28, 29, 30]\n",
            "40 \t 3 \t [0, 1, 2, 3, 4, 5, 6, 7, 8, 9, 10, 11, 12, 13, 14, 15, 16, 17, 18, 19, 20, 21, 22, 23, 24, 25, 26, 27, 28, 29, 2147483648]\n",
            "70 \t 6 \t [0, 1, 2, 3, 4, 23, 6, 7, 8, 9, 10, 11, 12, 13, 14, 15, 16, 17, 18, 19, 20, 21, 22, 23, 24, 25, 26, 27, 28, 29, 2147483648]\n",
            "80 \t 7 \t [0, 1, 4, 3, 4, 23, 6, 7, 8, 9, 10, 11, 12, 13, 14, 15, 16, 17, 18, 19, 20, 21, 22, 23, 24, 25, 26, 27, 28, 29, 2147483648]\n",
            "130 \t 12 \t [0, 1, 4, 3, 3, 23, 6, 7, 8, 9, 10, 11, 12, 13, 14, 15, 16, 17, 18, 19, 20, 21, 22, 28, 24, 25, 26, 27, 28, 29, 2147483648]\n",
            "140 \t 13 \t [0, 1, 25, 3, 3, 23, 6, 7, 8, 9, 10, 11, 12, 13, 14, 15, 16, 17, 18, 19, 20, 21, 22, 28, 24, 25, 26, 27, 28, 29, 2147483648]\n",
            "160 \t 15 \t [0, 1, 25, 3, 4000, 23, 6, 7, 0, 9, 10, 11, 12, 13, 14, 15, 16, 17, 18, 150, 20, 21, 22, 28, 24, 25, 26, 27, 28, 29, 2147483648]\n",
            "170 \t 16 \t [0, 1, 25, 3, 29, 23, 6, 7, 0, 9, 10, 11, 12, 13, 14, 15, 16, 17, 18, 150, 20, 21, 22, 28, 24, 25, 26, 27, 28, 29, 2147483648]\n"
          ]
        }
      ]
    }
  ]
}